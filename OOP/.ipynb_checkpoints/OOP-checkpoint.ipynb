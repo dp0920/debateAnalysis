{
 "cells": [
  {
   "cell_type": "code",
   "execution_count": 1,
   "metadata": {},
   "outputs": [],
   "source": [
    "import pandas as pd, matplotlib.pyplot as plt, numpy as np\n",
    "import re, string, nltk\n",
    "from collections import defaultdict\n",
    "from nltk.corpus import stopwords"
   ]
  },
  {
   "cell_type": "markdown",
   "metadata": {},
   "source": [
    "# Object-oriented Programming\n",
    "\n",
    "In order for this analysis to scale and add the text from upcoming debates, I believe having all of a candidates data in a single area will make adding new data easier. So first, I'll make a Speaker class, read in the first 2 nights of debate, and populate each candidate's class."
   ]
  },
  {
   "cell_type": "code",
   "execution_count": 2,
   "metadata": {},
   "outputs": [],
   "source": [
    "class Speaker:\n",
    "    def __init__(self, name):\n",
    "        self.name = name #name of candidate\n",
    "        self.text = []   # list of each input from this candidate\n",
    "        \n",
    "    def addConvo(self, convo):\n",
    "        self.text.append(convo)\n",
    "    \n",
    "    def getConvos(self):\n",
    "        return self.text\n",
    "    \n",
    "    def numOfContributions(self):\n",
    "        return len(self.text)\n",
    "        "
   ]
  },
  {
   "cell_type": "markdown",
   "metadata": {},
   "source": [
    "Unfortunately, I could not find the transcripts of round 2 of the debates through Time magazine. Bloomberg has each night "
   ]
  },
  {
   "cell_type": "code",
   "execution_count": 3,
   "metadata": {},
   "outputs": [],
   "source": [
    "# This function doesnt need to be changed for now\n",
    "def readTranscripts(fileName):\n",
    "    with open(fileName) as f:\n",
    "        lines = f.readlines()\n",
    "    f.close()\n",
    "    lines = lines[4:]\n",
    "    return ''.join(lines).split(\"\\n\")"
   ]
  },
  {
   "cell_type": "code",
   "execution_count": null,
   "metadata": {},
   "outputs": [],
   "source": []
  },
  {
   "cell_type": "code",
   "execution_count": 4,
   "metadata": {},
   "outputs": [
    {
     "data": {
      "text/plain": [
       "['    HOLT: Good evening, everyone. I’m Lester Holt, and welcome to the first Democratic debate to the 2020 race for president.',\n",
       " '',\n",
       " '    GUTHRIE: Hi, I’m Savannah Guthrie. And tonight, it’s our first chance to see these candidates go head to head on stage together.',\n",
       " '',\n",
       " '    GUTHRIE: We’ll be joined in our questioning time by our colleagues, Jose Diaz-Balart, Chuck Todd, and Rachel Maddow.']"
      ]
     },
     "execution_count": 4,
     "metadata": {},
     "output_type": "execute_result"
    }
   ],
   "source": [
    "night1 = readTranscripts('./night1.txt')\n",
    "night1[0:5]"
   ]
  },
  {
   "cell_type": "code",
   "execution_count": 5,
   "metadata": {},
   "outputs": [
    {
     "data": {
      "text/plain": [
       "['    HOLT: And good evening once again. Welcome to the candidates and our spirited audience here tonight in the Arsht Center and across America. Tonight we continue the spirited debate about the future of the country, how to tackle our most pressing problems and getting to the heart of the biggest issues in this Democratic primary.',\n",
       " '',\n",
       " '    GUTHRIE: Tonight we are going to talk about healthcare, immigration. We’re also to dive into the economy, jobs, climate change as well.',\n",
       " '',\n",
       " '    DIAZ-BALART: As a quick rules of the road before we begin and they may sound familiar 20 candidates cal–qualified for this first debate. As we said we heard from 10 last night and we will hear from 10 more tonight. The breakdown for each night was selected at random. The candidates will have 60 seconds to answer, 30 seconds for follow-ups.']"
      ]
     },
     "execution_count": 5,
     "metadata": {},
     "output_type": "execute_result"
    }
   ],
   "source": [
    "night2 = readTranscripts('./night2.txt')\n",
    "night2[0:5]"
   ]
  },
  {
   "cell_type": "code",
   "execution_count": 6,
   "metadata": {},
   "outputs": [],
   "source": [
    "for i in range(1, len(night1), 2):\n",
    "    if night1[i] != '' or night1[i] != '':\n",
    "        print(\"not blank\")"
   ]
  },
  {
   "cell_type": "code",
   "execution_count": 7,
   "metadata": {},
   "outputs": [],
   "source": [
    "#removing the empty lines between each convo\n",
    "night1 = night1[::2]\n",
    "night2 = night2[::2]"
   ]
  },
  {
   "cell_type": "code",
   "execution_count": 62,
   "metadata": {},
   "outputs": [],
   "source": [
    "def isSpeaker(s, speakers):\n",
    "    return s[-1] == \":\" and s[:-1] in speakers\n",
    "\n",
    "def analyzeCandidates(lst, night1=False):\n",
    "    \"\"\"\n",
    "    input: List(str)= the conversations of each night, where each speaker has a colon in the last place\n",
    "    output: dictionary mapping speakers to a list of their inputs during the night.\n",
    "    \"\"\"\n",
    "    \n",
    "    def switchDeBlasio(listOfWords):\n",
    "        i = 0\n",
    "        while i < len(listOfWords):\n",
    "            if listOfWords[i] == \"DE\" and listOfWords[i + 1] == \"BLASIO:\":\n",
    "                listOfWords.pop(i)\n",
    "                listOfWords[i] = \"DEBLASIO:\"\n",
    "            i += 1\n",
    "        return listOfWords\n",
    "    \n",
    "    speakers = findSpeakers(lst, night1)\n",
    "    speakersToText = {}\n",
    "    for s in speakers:\n",
    "        speakersToText[s] = Speaker(s)\n",
    "        #print('\\t', s)\n",
    "    \n",
    "    wordByWord = switchDeBlasio(''.join(lst).split())\n",
    "    \n",
    "    start = 0\n",
    "    end = 1\n",
    "    while end < len(wordByWord):\n",
    "        speaker = wordByWord[start][:-1]\n",
    "        mightSpeak = wordByWord[end]\n",
    "        if isSpeaker(mightSpeak, speakers):\n",
    "            newConvo = ' '.join(wordByWord[start + 1:end])\n",
    "            speakersToText[speaker].addConvo(newConvo)\n",
    "            start = end\n",
    "        end += 1\n",
    "    return speakersToText   \n",
    "\n",
    "def findSpeakers(lst, deBlasio=False):\n",
    "    speakers = set()\n",
    "    for s in lst:\n",
    "        if \":\" in s:\n",
    "            idx = s.index(\":\")\n",
    "            if idx < 20:\n",
    "                speakers.add(s[:idx].strip())\n",
    "    #================ helping Mayor De Blasio have a voice ===============#\n",
    "    if deBlasio:\n",
    "        \n",
    "        speakers.remove(\"DE BLASIO\")\n",
    "        speakers.add(\"DEBLASIO\")\n",
    "    #================ helping Mayor De Blasio have a voice ===============#\n",
    "    return speakers"
   ]
  },
  {
   "cell_type": "code",
   "execution_count": 63,
   "metadata": {},
   "outputs": [
    {
     "name": "stdout",
     "output_type": "stream",
     "text": [
      "BOOKER made 18 contributions.\n",
      "DELANEY made 28 contributions.\n",
      "DIAZ-BALART made 28 contributions.\n",
      "GABBARD made 15 contributions.\n",
      "MADDOW made 36 contributions.\n",
      "GUTHRIE made 32 contributions.\n",
      "CASTRO made 23 contributions.\n",
      "KLOBUCHAR made 15 contributions.\n",
      "RYAN made 21 contributions.\n",
      "DEBLASIO made 13 contributions.\n",
      "HOLT made 40 contributions.\n",
      "ANNOUNCER made 1 contributions.\n",
      "O’ROURKE made 28 contributions.\n",
      "INSLEE made 9 contributions.\n",
      "TODD made 71 contributions.\n",
      "WARREN made 16 contributions.\n",
      "(UNKNOWN) made 6 contributions.\n"
     ]
    }
   ],
   "source": [
    "candidates1 = analyzeCandidates(night1, True)\n",
    "for candidate in candidates1.keys():\n",
    "    print(candidate, \"made\", candidates1[candidate].numOfContributions(), \"contributions.\")"
   ]
  },
  {
   "cell_type": "code",
   "execution_count": 81,
   "metadata": {},
   "outputs": [],
   "source": [
    "candidates1.pop('ANNOUNCER', None)\n",
    "candidates1.pop('(UNKNOWN)', None);"
   ]
  },
  {
   "cell_type": "code",
   "execution_count": 82,
   "metadata": {},
   "outputs": [],
   "source": [
    "moderators = {'GUTHRIE', 'HOLT', 'MADDOW', 'TODD', 'DIAZ-BALART', \"DIAZ BALART\", \"BALART\"}\n",
    "candidates = set()"
   ]
  },
  {
   "cell_type": "code",
   "execution_count": 83,
   "metadata": {},
   "outputs": [],
   "source": [
    "for speaker in list(candidates1):\n",
    "    if speaker not in moderators:\n",
    "        candidates.add(speaker)"
   ]
  },
  {
   "cell_type": "code",
   "execution_count": 88,
   "metadata": {},
   "outputs": [
    {
     "name": "stdout",
     "output_type": "stream",
     "text": [
      "DIAZ BALART made 0 contributions.\n",
      "YANG made 7 contributions.\n",
      "BIDEN made 43 contributions.\n",
      "HARRIS made 45 contributions.\n",
      "DIAZ-BALART made 30 contributions.\n",
      "MADDOW made 43 contributions.\n",
      "UNKNOWN made 9 contributions.\n",
      "GUTHRIE made 46 contributions.\n",
      "BALART made 16 contributions.\n",
      "WILLIAMSON made 26 contributions.\n",
      "GILLIBRAND made 38 contributions.\n",
      "BUTTIGIEG made 22 contributions.\n",
      "HOLT made 45 contributions.\n",
      "TODD made 88 contributions.\n",
      "BENNET made 31 contributions.\n",
      "SANDERS made 49 contributions.\n",
      "SWALWELL made 33 contributions.\n",
      "HICKENLOOPER made 10 contributions.\n"
     ]
    }
   ],
   "source": [
    "candidates2 = analyzeCandidates(night2)\n",
    "for candidate in candidates2.keys():\n",
    "    print(candidate, \"made\", candidates2[candidate].numOfContributions(), \"contributions.\")"
   ]
  },
  {
   "cell_type": "code",
   "execution_count": 85,
   "metadata": {},
   "outputs": [],
   "source": [
    "candidates2.pop('UNKNOWN', None);"
   ]
  },
  {
   "cell_type": "code",
   "execution_count": 86,
   "metadata": {},
   "outputs": [],
   "source": [
    "candidates = {}\n",
    "candidates.update(candidates1)\n",
    "candidates.update(candidates2)"
   ]
  },
  {
   "cell_type": "code",
   "execution_count": 87,
   "metadata": {},
   "outputs": [
    {
     "data": {
      "text/plain": [
       "20"
      ]
     },
     "execution_count": 87,
     "metadata": {},
     "output_type": "execute_result"
    }
   ],
   "source": [
    "for speaker in moderators:\n",
    "    candidates.pop(speaker, None)\n",
    "len(candidates)"
   ]
  },
  {
   "cell_type": "markdown",
   "metadata": {},
   "source": [
    "Great, now we have a mapping a Speaker object for each candidate. Now we can make a single method in the class fo the plots. So this object also simplifies our graphing and abstracts that code away into a method that every speaker has."
   ]
  },
  {
   "cell_type": "code",
   "execution_count": null,
   "metadata": {},
   "outputs": [],
   "source": []
  },
  {
   "cell_type": "code",
   "execution_count": null,
   "metadata": {},
   "outputs": [],
   "source": []
  },
  {
   "cell_type": "markdown",
   "metadata": {},
   "source": [
    "# July 30th and July 31st Debates"
   ]
  },
  {
   "cell_type": "code",
   "execution_count": null,
   "metadata": {},
   "outputs": [],
   "source": []
  },
  {
   "cell_type": "code",
   "execution_count": null,
   "metadata": {},
   "outputs": [],
   "source": []
  }
 ],
 "metadata": {
  "kernelspec": {
   "display_name": "Python 3",
   "language": "python",
   "name": "python3"
  },
  "language_info": {
   "codemirror_mode": {
    "name": "ipython",
    "version": 3
   },
   "file_extension": ".py",
   "mimetype": "text/x-python",
   "name": "python",
   "nbconvert_exporter": "python",
   "pygments_lexer": "ipython3",
   "version": "3.7.0"
  }
 },
 "nbformat": 4,
 "nbformat_minor": 2
}
