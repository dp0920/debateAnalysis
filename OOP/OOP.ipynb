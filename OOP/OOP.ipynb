{
 "cells": [
  {
   "cell_type": "code",
   "execution_count": null,
   "metadata": {},
   "outputs": [],
   "source": [
    "import pandas as pd, matplotlib.pyplot as plt, numpy as np\n",
    "import re, string, nltk\n",
    "from collections import defaultdict\n",
    "from nltk.corpus import stopwords"
   ]
  },
  {
   "cell_type": "markdown",
   "metadata": {},
   "source": [
    "# Object-oriented Programming\n",
    "\n",
    "In order for this analysis to scale and add the text from upcoming debates, I believe having all of a candidates data in a single area will make adding new data easier. So first, I'll make a Speaker class, read in the first 2 nights of debate, and populate each candidate's class."
   ]
  },
  {
   "cell_type": "code",
   "execution_count": 16,
   "metadata": {},
   "outputs": [],
   "source": [
    "NUMBER_OF_TRANSCRIPTS = 4\n",
    "class Speaker:\n",
    "    def __init__(self, name):\n",
    "        self.count = 0\n",
    "        self.name = name #name of candidate\n",
    "        self.text = [[] for _ in range(NUMBER_OF_TRANSCRIPTS)] # this will allow us to know if someone did not speak on a particular night\n",
    "        \n",
    "    def addConvo(self, convo, night_number):\n",
    "        self.text[night_number].append(convo)\n",
    "        self.cont += 1\n",
    "        \n",
    "    \n",
    "    def getConvos(self):\n",
    "        return self.text\n",
    "    \n",
    "    def getConvosOfNightK(self, k):\n",
    "        return self.text[k]\n",
    "    \n",
    "    \n",
    "    def printConvosNightK(self, k=0): #default is to print all of the convos\n",
    "        if k:\n",
    "            for convo in self.text[k]:\n",
    "                    print(convo)\n",
    "        else:\n",
    "            for night in range(NUMBER_OF_TRANSCRIPTS):\n",
    "                for convo in self.text[night]:\n",
    "                    print(convo)\n",
    "            \n",
    "    def contibutionsNightK(self, k):\n",
    "        return len(self.text[k])\n",
    "    \n",
    "    def totalContributions(self):\n",
    "        return self.count\n",
    "        "
   ]
  },
  {
   "cell_type": "markdown",
   "metadata": {},
   "source": [
    "Unfortunately, I could not find the transcripts of round 2 of the debates through Time magazine. Bloomberg has each night [here](https://www.bloomberg.com/graphics/democratic-presidential-debates-key-issues/#span-67). So I will be using these transcripts for this analysis. Their site has a wonderful visualization of the topics of discussion throughout the debates. I am going to analyzed the rhetoric and sentiment used throughout the debates."
   ]
  },
  {
   "cell_type": "code",
   "execution_count": 10,
   "metadata": {},
   "outputs": [],
   "source": [
    "def readTranscripts(fileName):\n",
    "    f = open(fileName)\n",
    "    lines = f.readlines()\n",
    "    f.close()\n",
    "    return ''.join(lines).split('\\n')\n",
    "\n",
    "def isSpeaker(line):\n",
    "    return line.upper() == line\n",
    "\n",
    "def isModerator(lines, i):\n",
    "    return i + 1 < len(lines) and isSpeaker(lines[i]) and lines[i + 1] == 'MODERATOR'\n",
    "\n",
    "def addConvoToSpeaker(mapping, name, convo, nightNumber):\n",
    "    if name not in mapping:\n",
    "        mapping[name] = Speaker(name)\n",
    "    speaker = mapping[name]\n",
    "    speaker.addConvo(convo, nightNumber)\n",
    "    \n",
    "\n",
    "def loadNightK(k, mods, cands):\n",
    "    transcript = readTranscripts('./transcripts/bloomberg_night_' + str(k + 1) + '.txt')\n",
    "    i = 0\n",
    "    while i + 1 < len(transcript):\n",
    "        name = transcript[i]\n",
    "        if isModerator(transcript, i):\n",
    "            addConvoToSpeaker(mods, name, transcript[i + 2], k)        \n",
    "            i += 4\n",
    "        else:\n",
    "            addConvoToSpeaker(cands, name, transcript[i + 1], k) \n",
    "            i += 3 "
   ]
  },
  {
   "cell_type": "code",
   "execution_count": 11,
   "metadata": {},
   "outputs": [],
   "source": [
    "moderators = {}\n",
    "candidates = {}\n",
    "for k in range(NUMBER_OF_TRANSCRIPTS):\n",
    "    loadNightK(k, moderators, candidates)"
   ]
  },
  {
   "cell_type": "markdown",
   "metadata": {},
   "source": [
    "Great, now we have loaded all the "
   ]
  },
  {
   "cell_type": "code",
   "execution_count": 15,
   "metadata": {},
   "outputs": [
    {
     "name": "stdout",
     "output_type": "stream",
     "text": [
      "SANDERS (?):  [[], ['I just...'], [], []]\n",
      "WILLIAMSON (?):  [[], ['Another thing, I...'], [], []]\n",
      "SWALWELL (?):  [[], [\"Here's the solution. Pass the torch. Pass the torch to the generation that's going to feel the effects of climate change.\"], [], []]\n"
     ]
    }
   ],
   "source": [
    "for cand in candidates:\n",
    "    if '(?)' in cand:\n",
    "        print(cand + ': ', candidates[cand].getConvos())"
   ]
  },
  {
   "cell_type": "code",
   "execution_count": null,
   "metadata": {},
   "outputs": [],
   "source": [
    "candidates.keys()"
   ]
  },
  {
   "cell_type": "code",
   "execution_count": null,
   "metadata": {},
   "outputs": [],
   "source": []
  },
  {
   "cell_type": "code",
   "execution_count": null,
   "metadata": {},
   "outputs": [],
   "source": []
  },
  {
   "cell_type": "code",
   "execution_count": null,
   "metadata": {},
   "outputs": [],
   "source": []
  },
  {
   "cell_type": "code",
   "execution_count": null,
   "metadata": {},
   "outputs": [],
   "source": []
  },
  {
   "cell_type": "code",
   "execution_count": null,
   "metadata": {},
   "outputs": [],
   "source": [
    "def analyzeCandidates(lst, night1=False):\n",
    "    \"\"\"\n",
    "    input: List(str)= the conversations of each night, where each speaker has a colon in the last place\n",
    "    output: dictionary mapping speakers to a list of their inputs during the night.\n",
    "    \"\"\"\n",
    "    \n",
    "    def switchDeBlasio(listOfWords):\n",
    "        i = 0\n",
    "        while i < len(listOfWords):\n",
    "            if listOfWords[i] == \"DE\" and listOfWords[i + 1] == \"BLASIO:\":\n",
    "                listOfWords.pop(i)\n",
    "                listOfWords[i] = \"DEBLASIO:\"\n",
    "            i += 1\n",
    "        return listOfWords\n",
    "    \n",
    "    speakers = findSpeakers(lst, night1)\n",
    "    speakersToText = {}\n",
    "    for s in speakers:\n",
    "        speakersToText[s] = Speaker(s)\n",
    "        #print('\\t', s)\n",
    "    \n",
    "    wordByWord = switchDeBlasio(''.join(lst).split())\n",
    "    \n",
    "    start = 0\n",
    "    end = 1\n",
    "    while end < len(wordByWord):\n",
    "        speaker = wordByWord[start][:-1]\n",
    "        mightSpeak = wordByWord[end]\n",
    "        if isSpeaker(mightSpeak, speakers):\n",
    "            newConvo = ' '.join(wordByWord[start + 1:end])\n",
    "            speakersToText[speaker].addConvo(newConvo)\n",
    "            start = end\n",
    "        end += 1\n",
    "    return speakersToText   \n",
    "\n",
    "def findSpeakers(lst, deBlasio=False):\n",
    "    speakers = set()\n",
    "    for s in lst:\n",
    "        if \":\" in s:\n",
    "            idx = s.index(\":\")\n",
    "            if idx < 20:\n",
    "                speakers.add(s[:idx].strip())\n",
    "    #================ helping Mayor De Blasio have a voice ===============#\n",
    "    if deBlasio:\n",
    "        \n",
    "        speakers.remove(\"DE BLASIO\")\n",
    "        speakers.add(\"DEBLASIO\")\n",
    "    #================ helping Mayor De Blasio have a voice ===============#\n",
    "    return speakers"
   ]
  },
  {
   "cell_type": "code",
   "execution_count": null,
   "metadata": {},
   "outputs": [],
   "source": [
    "candidates1 = analyzeCandidates(night1, True)\n",
    "for candidate in candidates1.keys():\n",
    "    print(candidate, \"made\", candidates1[candidate].numOfContributions(), \"contributions.\")"
   ]
  },
  {
   "cell_type": "code",
   "execution_count": null,
   "metadata": {},
   "outputs": [],
   "source": [
    "candidates1.pop('ANNOUNCER', None)\n",
    "candidates1.pop('(UNKNOWN)', None);"
   ]
  },
  {
   "cell_type": "code",
   "execution_count": null,
   "metadata": {},
   "outputs": [],
   "source": [
    "moderators = {'GUTHRIE', 'HOLT', 'MADDOW', 'TODD', 'DIAZ-BALART', \"DIAZ BALART\", \"BALART\"}\n",
    "candidates = set()"
   ]
  },
  {
   "cell_type": "code",
   "execution_count": null,
   "metadata": {},
   "outputs": [],
   "source": [
    "for speaker in list(candidates1):\n",
    "    if speaker not in moderators:\n",
    "        candidates.add(speaker)"
   ]
  },
  {
   "cell_type": "code",
   "execution_count": null,
   "metadata": {},
   "outputs": [],
   "source": [
    "candidates2 = analyzeCandidates(night2)\n",
    "for candidate in candidates2.keys():\n",
    "    print(candidate, \"made\", candidates2[candidate].numOfContributions(), \"contributions.\")"
   ]
  },
  {
   "cell_type": "code",
   "execution_count": null,
   "metadata": {},
   "outputs": [],
   "source": [
    "candidates2.pop('UNKNOWN', None);"
   ]
  },
  {
   "cell_type": "code",
   "execution_count": null,
   "metadata": {},
   "outputs": [],
   "source": [
    "candidates = {}\n",
    "candidates.update(candidates1)\n",
    "candidates.update(candidates2)"
   ]
  },
  {
   "cell_type": "code",
   "execution_count": null,
   "metadata": {},
   "outputs": [],
   "source": [
    "for speaker in moderators:\n",
    "    candidates.pop(speaker, None)\n",
    "len(candidates)"
   ]
  },
  {
   "cell_type": "markdown",
   "metadata": {},
   "source": [
    "Great, now we have a mapping a Speaker object for each candidate. Now we can make a single method in the class fo the plots. So this object also simplifies our graphing and abstracts that code away into a method that every speaker has."
   ]
  },
  {
   "cell_type": "code",
   "execution_count": null,
   "metadata": {},
   "outputs": [],
   "source": []
  },
  {
   "cell_type": "code",
   "execution_count": null,
   "metadata": {},
   "outputs": [],
   "source": []
  },
  {
   "cell_type": "markdown",
   "metadata": {},
   "source": [
    "# July 30th and July 31st Debates"
   ]
  },
  {
   "cell_type": "code",
   "execution_count": null,
   "metadata": {},
   "outputs": [],
   "source": []
  },
  {
   "cell_type": "code",
   "execution_count": null,
   "metadata": {},
   "outputs": [],
   "source": []
  }
 ],
 "metadata": {
  "kernelspec": {
   "display_name": "Python 3",
   "language": "python",
   "name": "python3"
  },
  "language_info": {
   "codemirror_mode": {
    "name": "ipython",
    "version": 3
   },
   "file_extension": ".py",
   "mimetype": "text/x-python",
   "name": "python",
   "nbconvert_exporter": "python",
   "pygments_lexer": "ipython3",
   "version": "3.7.0"
  }
 },
 "nbformat": 4,
 "nbformat_minor": 2
}
